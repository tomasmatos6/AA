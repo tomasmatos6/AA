{
 "cells": [
  {
   "cell_type": "code",
   "execution_count": 2,
   "metadata": {},
   "outputs": [],
   "source": [
    "import numpy as np\n",
    "import matplotlib.pyplot as plt\n",
    "import pickle\n",
    "from sklearn.linear_model import LinearRegression, Lasso\n",
    "import scipy.linalg as la\n",
    "from sklearn.preprocessing import PolynomialFeatures\n",
    "from sklearn.metrics import confusion_matrix"
   ]
  },
  {
   "cell_type": "markdown",
   "metadata": {},
   "source": [
    "### Pergunta 1"
   ]
  },
  {
   "cell_type": "markdown",
   "metadata": {},
   "source": [
    "#### a) -> ii"
   ]
  },
  {
   "cell_type": "code",
   "execution_count": 3,
   "metadata": {},
   "outputs": [
    {
     "name": "stdout",
     "output_type": "stream",
     "text": [
      "x-> (217,)\n",
      "y-> (217,)\n"
     ]
    }
   ],
   "source": [
    "D = pickle.load(open('A48286_Q001_data.p', 'rb'))\n",
    "x = D['x']\n",
    "y = D['y']\n",
    "folds = D['folds']\n",
    "print('x->',x.shape)\n",
    "print('y->',y.shape)"
   ]
  },
  {
   "cell_type": "code",
   "execution_count": 4,
   "metadata": {},
   "outputs": [
    {
     "name": "stdout",
     "output_type": "stream",
     "text": [
      "(130,)\n",
      "(130,)\n"
     ]
    },
    {
     "data": {
      "image/png": "[encoded data removed]",
      "text/plain": [
       "<Figure size 640x480 with 1 Axes>"
      ]
     },
     "metadata": {},
     "output_type": "display_data"
    }
   ],
   "source": [
    "xf0 = x[folds==0]\n",
    "yf0 = y[folds==0]\n",
    "print(xf0.shape)\n",
    "print(yf0.shape)\n",
    "\n",
    "plt.plot(xf0, yf0, '.')\n",
    "plt.axis('scaled')\n",
    "plt.grid()"
   ]
  },
  {
   "cell_type": "code",
   "execution_count": 5,
   "metadata": {},
   "outputs": [
    {
     "name": "stdout",
     "output_type": "stream",
     "text": [
      "(87,)\n",
      "(87,)\n"
     ]
    },
    {
     "data": {
      "image/png": "[encoded data removed]",
      "text/plain": [
       "<Figure size 640x480 with 1 Axes>"
      ]
     },
     "metadata": {},
     "output_type": "display_data"
    }
   ],
   "source": [
    "xf1 = x[folds==1]\n",
    "yf1 = y[folds==1]\n",
    "print(xf1.shape)\n",
    "print(yf1.shape)\n",
    "\n",
    "plt.plot(xf1, yf1, '.')\n",
    "plt.axis('scaled')\n",
    "plt.grid()"
   ]
  },
  {
   "cell_type": "code",
   "execution_count": 9,
   "metadata": {},
   "outputs": [
    {
     "name": "stdout",
     "output_type": "stream",
     "text": [
      "R2 no teste:  0.7997090164541405\n",
      "MRE no teste:  0.31185167329408064\n"
     ]
    }
   ],
   "source": [
    "# ii\n",
    "x0 = xf0.copy()[np.newaxis]\n",
    "x1 = xf1.copy()[np.newaxis]\n",
    "y0 = yf0.copy()\n",
    "y1 = yf1.copy()\n",
    "\n",
    "poly = PolynomialFeatures(degree=3, include_bias=False).fit(x0.T, y0)\n",
    "x0a = poly.transform(x0.T).T\n",
    "x1a = poly.transform(x1.T).T\n",
    "\n",
    "lr = LinearRegression().fit(x0a.T, y0)\n",
    "\n",
    "print('R2 no teste: ', lr.score(x1a.T, y1))\n",
    "y1e = lr.predict(x1a.T)\n",
    "print('MRE no teste: ', np.mean((y1-y1e)**2))"
   ]
  },
  {
   "cell_type": "markdown",
   "metadata": {},
   "source": [
    "#### b) ->i"
   ]
  },
  {
   "cell_type": "code",
   "execution_count": 10,
   "metadata": {},
   "outputs": [
    {
     "name": "stdout",
     "output_type": "stream",
     "text": [
      "MRE no teste:  0.10745113170717412\n",
      "MAE no treino:  0.25295898958387386\n"
     ]
    }
   ],
   "source": [
    "# i\n",
    "x0 = xf0.copy()[np.newaxis]\n",
    "x1 = xf1.copy()[np.newaxis]\n",
    "y0 = yf0.copy()\n",
    "y1 = yf1.copy()\n",
    "\n",
    "poly = PolynomialFeatures(degree=4, include_bias=False).fit(x0.T, y0)\n",
    "x0a = poly.transform(x0.T).T\n",
    "x1a = poly.transform(x1.T).T\n",
    "\n",
    "lr = LinearRegression().fit(x0a.T, y0)\n",
    "\n",
    "y0e = lr.predict(x0a.T)\n",
    "y1e = lr.predict(x1a.T)\n",
    "\n",
    "print('MRE no teste: ', np.mean((y1-y1e)**2))\n",
    "print('MAE no treino: ', np.mean(np.abs(y0-y0e)))"
   ]
  },
  {
   "cell_type": "markdown",
   "metadata": {},
   "source": [
    "### Pergunta 2"
   ]
  },
  {
   "cell_type": "code",
   "execution_count": 11,
   "metadata": {},
   "outputs": [
    {
     "data": {
      "text/plain": [
       "dict_keys(['data', 'target', 'frame', 'DESCR', 'feature_names', 'data_filename', 'target_filename', 'data_module'])"
      ]
     },
     "execution_count": 11,
     "metadata": {},
     "output_type": "execute_result"
    }
   ],
   "source": [
    "from sklearn.datasets import load_diabetes\n",
    "\n",
    "D = load_diabetes()\n",
    "D.keys()"
   ]
  },
  {
   "cell_type": "code",
   "execution_count": 16,
   "metadata": {},
   "outputs": [],
   "source": [
    "X = D['data'].T\n",
    "y = D['target']\n",
    "\n",
    "X1 = X[:, :174]\n",
    "y1 = y[:174]\n",
    "\n",
    "X2 = X[:, 174:]\n",
    "y2 = y[174:]"
   ]
  },
  {
   "cell_type": "markdown",
   "metadata": {},
   "source": [
    "#### a) -> iii"
   ]
  },
  {
   "cell_type": "code",
   "execution_count": 17,
   "metadata": {},
   "outputs": [
    {
     "name": "stdout",
     "output_type": "stream",
     "text": [
      "Nº de coef:  17\n",
      "MAE no teste:  43.21120656597126\n"
     ]
    }
   ],
   "source": [
    "# iii\n",
    "poly = PolynomialFeatures(degree=3, include_bias=False).fit(X1.T)\n",
    "X1a = poly.transform(X1.T).T\n",
    "X2a = poly.transform(X2.T).T\n",
    "\n",
    "\n",
    "lasso = Lasso(random_state=42, alpha=0.01).fit(X1a.T, y1)\n",
    "\n",
    "y2e = lasso.predict(X2a.T)\n",
    "\n",
    "W = lasso.coef_\n",
    "print(\"Nº de coef diferentes de 0: \", np.sum(W != 0))\n",
    "print(\"MAE no teste: \", np.mean(np.abs(y2-y2e)))"
   ]
  },
  {
   "cell_type": "markdown",
   "metadata": {},
   "source": [
    "#### b) -> iii"
   ]
  },
  {
   "cell_type": "code",
   "execution_count": 18,
   "metadata": {},
   "outputs": [
    {
     "name": "stdout",
     "output_type": "stream",
     "text": [
      "Nº de coef incluindo w0:  286\n",
      "Nº de coef incluindo w0: 1001\n"
     ]
    }
   ],
   "source": [
    "# iii\n",
    "poly = PolynomialFeatures(degree=3, include_bias=False).fit(X1.T)\n",
    "X1a = poly.transform(X1.T).T\n",
    "\n",
    "lr = LinearRegression().fit(X1a.T, y1)\n",
    "\n",
    "print(\"Nº de coef incluindo w0: \", lr.coef_.shape[0] + 1)\n",
    "\n",
    "poly = PolynomialFeatures(degree=4, include_bias=False).fit(X1.T)\n",
    "X1a = poly.transform(X1.T).T\n",
    "\n",
    "lr = LinearRegression().fit(X1a.T, y1)\n",
    "print('Nº de coef incluindo w0:' , lr.coef_.shape[0] + 1)"
   ]
  },
  {
   "cell_type": "markdown",
   "metadata": {},
   "source": [
    "### Pergunta 3"
   ]
  },
  {
   "cell_type": "code",
   "execution_count": 30,
   "metadata": {},
   "outputs": [
    {
     "data": {
      "text/plain": [
       "(2301,)"
      ]
     },
     "execution_count": 30,
     "metadata": {},
     "output_type": "execute_result"
    }
   ],
   "source": [
    "D = pickle.load(open('A48286_Q003_data.p', 'rb'))\n",
    "X = D['X']\n",
    "y = D['y']\n",
    "y.shape"
   ]
  },
  {
   "cell_type": "markdown",
   "metadata": {},
   "source": [
    "#### a) -> i"
   ]
  },
  {
   "cell_type": "code",
   "execution_count": 31,
   "metadata": {},
   "outputs": [
    {
     "name": "stdout",
     "output_type": "stream",
     "text": [
      "[[ 638  183]\n",
      " [  54 1426]]\n"
     ]
    }
   ],
   "source": [
    "X = np.vstack((np.ones(X.shape[1]), X))\n",
    "idx = np.argsort(y)\n",
    "\n",
    "y = y[idx]\n",
    "X = X[:, idx]\n",
    "y[y==0] = -1\n",
    "\n",
    "Rx = np.dot(X, X.T)\n",
    "rxy = np.dot(X, y.T)\n",
    "wMSE = np.dot(la.pinv(Rx), rxy)\n",
    "\n",
    "w = np.array([0.00, 0.70, -0.72])\n",
    "ye = np.dot(w.T, X)\n",
    "Ye = ye.copy()\n",
    "\n",
    "Ye[ye<0] = -1\n",
    "Ye[ye>=0] = 1\n",
    "print(confusion_matrix(y, Ye))"
   ]
  },
  {
   "cell_type": "code",
   "execution_count": 32,
   "metadata": {},
   "outputs": [
    {
     "name": "stdout",
     "output_type": "stream",
     "text": [
      "acertos w0:  638\n",
      "recall:  0.9635135135135136\n"
     ]
    }
   ],
   "source": [
    "# i\n",
    "TN = 638\n",
    "TP = 1426\n",
    "FN = 54\n",
    "FP = 183\n",
    "\n",
    "print('acertos w0: ', TN)\n",
    "recall = TP/(TP+FN)\n",
    "print('recall: ', recall)"
   ]
  },
  {
   "cell_type": "markdown",
   "metadata": {},
   "source": [
    "#### b) -> ii"
   ]
  },
  {
   "cell_type": "code",
   "execution_count": 33,
   "metadata": {},
   "outputs": [
    {
     "name": "stdout",
     "output_type": "stream",
     "text": [
      "[[ 793   28]\n",
      " [   0 1480]]\n"
     ]
    }
   ],
   "source": [
    "ye = np.dot(wMSE.T, X)\n",
    "Ye  = ye.copy()\n",
    "\n",
    "Ye[ye<0] = -1\n",
    "Ye[ye>=0] = 1\n",
    "print(confusion_matrix(y, Ye))"
   ]
  },
  {
   "cell_type": "code",
   "execution_count": 37,
   "metadata": {},
   "outputs": [
    {
     "name": "stdout",
     "output_type": "stream",
     "text": [
      "acertos w1:  1480\n",
      "mse:  0.4734407010523959\n"
     ]
    }
   ],
   "source": [
    "print('acertos w1: ', 1480)\n",
    "print('mse: ', np.mean((y-ye)**2))"
   ]
  },
  {
   "cell_type": "markdown",
   "metadata": {},
   "source": [
    "### Save"
   ]
  },
  {
   "cell_type": "code",
   "execution_count": 39,
   "metadata": {},
   "outputs": [
    {
     "data": {
      "text/plain": [
       "{'Q001': array([[0., 1., 0., 0.],\n",
       "        [1., 0., 0., 0.]]),\n",
       " 'Q002': array([[0., 0., 1., 0.],\n",
       "        [0., 0., 1., 0.]]),\n",
       " 'Q003': array([[1., 0., 0., 0.],\n",
       "        [0., 1., 0., 0.]]),\n",
       " 'nome': 'Tomas Miguel Baptista de Matos',\n",
       " 'numero': 'A48286'}"
      ]
     },
     "execution_count": 39,
     "metadata": {},
     "output_type": "execute_result"
    }
   ],
   "source": [
    "QD = pickle.load(open('A48286_Ficha4_Respostas.p', 'rb'))\n",
    "# Pergunta 1\n",
    "QD['Q001'][0,:] = np.array([0,1,0,0]) # 2\n",
    "QD['Q001'][1,:] = np.array([1,0,0,0]) # 1\n",
    "QD['Q002'][0,:] = np.array([0,0,1,0]) # 3\n",
    "QD['Q002'][1,:] = np.array([0,0,1,0]) # 3\n",
    "QD['Q003'][0,:] = np.array([1,0,0,0]) # 1\n",
    "QD['Q003'][1,:] = np.array([0,1,0,0]) # 2\n",
    "\n",
    "# Save\n",
    "pickle.dump(QD, open('A48286_Ficha4_Respostas.p', 'wb'))\n",
    "\n",
    "# Show data\n",
    "pickle.load(open('A48286_Ficha4_Respostas.p', 'rb'))"
   ]
  }
 ],
 "metadata": {
  "kernelspec": {
   "display_name": "AA",
   "language": "python",
   "name": "python3"
  },
  "language_info": {
   "codemirror_mode": {
    "name": "ipython",
    "version": 3
   },
   "file_extension": ".py",
   "mimetype": "text/x-python",
   "name": "python",
   "nbconvert_exporter": "python",
   "pygments_lexer": "ipython3",
   "version": "3.12.5"
  }
 },
 "nbformat": 4,
 "nbformat_minor": 2
}
