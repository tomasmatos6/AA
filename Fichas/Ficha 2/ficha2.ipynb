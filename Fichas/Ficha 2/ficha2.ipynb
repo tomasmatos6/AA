{
 "cells": [
  {
   "cell_type": "code",
   "execution_count": 2,
   "metadata": {},
   "outputs": [],
   "source": [
    "import numpy as np\n",
    "import pickle\n",
    "import numpy.random as rd\n",
    "import numpy.linalg as la\n",
    "import scipy.spatial.distance as spd\n",
    "from sklearn.metrics import confusion_matrix\n",
    "from sklearn.neighbors import NearestCentroid"
   ]
  },
  {
   "cell_type": "markdown",
   "metadata": {},
   "source": [
    "## Pergunta 1"
   ]
  },
  {
   "cell_type": "code",
   "execution_count": 3,
   "metadata": {},
   "outputs": [],
   "source": [
    "X = np.array([[4,4,3,6,7,5,7,5],\n",
    "              [6,6,3,5,4,4,3,6]])\n",
    "y = np.array([0,0,0,0,1,1,1,1])"
   ]
  },
  {
   "cell_type": "markdown",
   "metadata": {},
   "source": [
    "### a) -> i"
   ]
  },
  {
   "cell_type": "code",
   "execution_count": 4,
   "metadata": {},
   "outputs": [
    {
     "data": {
      "text/plain": [
       "array([0, 0])"
      ]
     },
     "execution_count": 4,
     "metadata": {},
     "output_type": "execute_result"
    }
   ],
   "source": [
    "Xa = np.array([[0,2],\n",
    "               [1,3]])\n",
    "\n",
    "nc = NearestCentroid(metric='manhattan').fit(X.T, y)\n",
    "ye = nc.predict(Xa.T)\n",
    "ye"
   ]
  },
  {
   "cell_type": "markdown",
   "metadata": {},
   "source": [
    "### b) -> iii"
   ]
  },
  {
   "cell_type": "code",
   "execution_count": 5,
   "metadata": {},
   "outputs": [
    {
     "data": {
      "text/plain": [
       "array([[3, 1],\n",
       "       [1, 3]])"
      ]
     },
     "execution_count": 5,
     "metadata": {},
     "output_type": "execute_result"
    }
   ],
   "source": [
    "nc = NearestCentroid(metric='euclidean').fit(X.T, y)\n",
    "ye = nc.predict(X.T)\n",
    "confusion_matrix(y, ye)"
   ]
  },
  {
   "cell_type": "markdown",
   "metadata": {},
   "source": [
    "### c) -> iv"
   ]
  },
  {
   "cell_type": "code",
   "execution_count": 6,
   "metadata": {},
   "outputs": [
    {
     "name": "stdout",
     "output_type": "stream",
     "text": [
      "Matriz de Confusão (D_cosine):\n",
      " [[3 1]\n",
      " [1 3]]\n"
     ]
    }
   ],
   "source": [
    "from sklearn.metrics.pairwise import cosine_similarity\n",
    "\n",
    "m0 = np.mean(X[:, y==0], axis=1)\n",
    "m1 = np.mean(X[:, y==1], axis=1)\n",
    "\n",
    "cosine_sim_D0 = cosine_similarity(X.T, m0.reshape(1, -1))\n",
    "cosine_sim_D1 = cosine_similarity(X.T, m1.reshape(1, -1))\n",
    "\n",
    "D_cosine = np.vstack((cosine_sim_D0.T, cosine_sim_D1.T))\n",
    "ye_cosine = np.argmax(D_cosine, axis=0)\n",
    "\n",
    "print(\"Matriz de Confusão (D_cosine):\\n\", confusion_matrix(y, ye_cosine))\n"
   ]
  },
  {
   "cell_type": "markdown",
   "metadata": {},
   "source": [
    "### d) -> iii"
   ]
  },
  {
   "cell_type": "code",
   "execution_count": 7,
   "metadata": {},
   "outputs": [
    {
     "name": "stdout",
     "output_type": "stream",
     "text": [
      "2.5\n",
      "0.03\n"
     ]
    }
   ],
   "source": [
    "print(spd.cityblock(m0, m1))\n",
    "print(round(spd.cosine(m0, m1),2))"
   ]
  },
  {
   "cell_type": "markdown",
   "metadata": {},
   "source": [
    "## Pergunta 2"
   ]
  },
  {
   "cell_type": "code",
   "execution_count": 8,
   "metadata": {},
   "outputs": [],
   "source": [
    "D = pickle.load(open('A48286_Q002_data.p', 'rb'))\n",
    "y = D['trueClass']\n",
    "ye = D['estClass']"
   ]
  },
  {
   "cell_type": "code",
   "execution_count": 9,
   "metadata": {},
   "outputs": [
    {
     "data": {
      "text/plain": [
       "array([[959, 211],\n",
       "       [104, 526]])"
      ]
     },
     "execution_count": 9,
     "metadata": {},
     "output_type": "execute_result"
    }
   ],
   "source": [
    "cm = confusion_matrix(y, ye)\n",
    "cm"
   ]
  },
  {
   "cell_type": "markdown",
   "metadata": {},
   "source": [
    "### a) -> iv"
   ]
  },
  {
   "cell_type": "code",
   "execution_count": 14,
   "metadata": {},
   "outputs": [
    {
     "name": "stdout",
     "output_type": "stream",
     "text": [
      "82.0\n",
      "Posição correta:  35.0\n",
      "Posição errada:  40.0\n"
     ]
    }
   ],
   "source": [
    "TN = 959\n",
    "FP = 211\n",
    "FN = 104\n",
    "TP = 526\n",
    "\n",
    "print(round(TN/(TN+FP)*100,1))\n",
    "\n",
    "print(\"Posição correta: \", round(np.sum(y==1)/y.shape[0]*100,1))\n",
    "print(\"Posição errada: \", round(np.sum(y==1)/y.shape[0],1)*100)"
   ]
  },
  {
   "cell_type": "markdown",
   "metadata": {},
   "source": [
    "### b) -> iv"
   ]
  },
  {
   "cell_type": "code",
   "execution_count": 11,
   "metadata": {},
   "outputs": [
    {
     "name": "stdout",
     "output_type": "stream",
     "text": [
      "[[959 211]\n",
      " [104 526]]\n",
      "959\n",
      "526\n"
     ]
    }
   ],
   "source": [
    "print(cm)\n",
    "print(TN)\n",
    "print(TP)"
   ]
  },
  {
   "cell_type": "markdown",
   "metadata": {},
   "source": [
    "## Save file"
   ]
  },
  {
   "cell_type": "code",
   "execution_count": 12,
   "metadata": {},
   "outputs": [
    {
     "data": {
      "text/plain": [
       "{'Q001': array([[1., 0., 0., 0.],\n",
       "        [0., 0., 1., 0.],\n",
       "        [0., 0., 0., 1.],\n",
       "        [0., 0., 1., 0.]]),\n",
       " 'Q002': array([[0., 1., 0., 0.],\n",
       "        [0., 0., 0., 1.]]),\n",
       " 'nome': 'Tomas Miguel Baptista de Matos',\n",
       " 'numero': 'A48286'}"
      ]
     },
     "execution_count": 12,
     "metadata": {},
     "output_type": "execute_result"
    }
   ],
   "source": [
    "QD = pickle.load(open('A48286_Ficha2_Respostas.p', 'rb'))\n",
    "# Pergunta 1\n",
    "QD['Q001'][0,:] = np.array([1,0,0,0]) # 1\n",
    "QD['Q001'][1,:] = np.array([0,0,1,0]) # 3\n",
    "QD['Q001'][2,:] = np.array([0,0,0,1]) # 4\n",
    "QD['Q001'][3,:] = np.array([0,0,1,0]) # 3\n",
    "\n",
    "# Pergunta 2\n",
    "QD['Q002'][0,:] = np.array([0,1,0,0]) # 2\n",
    "QD['Q002'][1,:] = np.array([0,0,0,1]) # 4\n",
    "\n",
    "# Save\n",
    "pickle.dump(QD, open('A48286_Ficha2_Respostas.p', 'wb'))\n",
    "\n",
    "# Show data\n",
    "pickle.load(open('A48286_Ficha2_Respostas.p', 'rb'))"
   ]
  }
 ],
 "metadata": {
  "kernelspec": {
   "display_name": "AA",
   "language": "python",
   "name": "python3"
  },
  "language_info": {
   "codemirror_mode": {
    "name": "ipython",
    "version": 3
   },
   "file_extension": ".py",
   "mimetype": "text/x-python",
   "name": "python",
   "nbconvert_exporter": "python",
   "pygments_lexer": "ipython3",
   "version": "3.12.5"
  }
 },
 "nbformat": 4,
 "nbformat_minor": 2
}
