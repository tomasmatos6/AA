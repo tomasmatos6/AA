{
 "cells": [
  {
   "cell_type": "markdown",
   "metadata": {},
   "source": [
    "Imports"
   ]
  },
  {
   "cell_type": "code",
   "execution_count": 2,
   "metadata": {},
   "outputs": [],
   "source": [
    "import numpy as np\n",
    "import matplotlib.pyplot as plt\n",
    "import numpy.linalg as la\n",
    "import pickle\n",
    "from sklearn.neighbors import KNeighborsClassifier, NearestCentroid\n",
    "from sklearn.metrics import confusion_matrix\n",
    "import scipy.spatial.distance as spd\n",
    "from scipy.linalg import pinv"
   ]
  },
  {
   "cell_type": "code",
   "execution_count": 3,
   "metadata": {},
   "outputs": [],
   "source": [
    "D1 = pickle.load(open('A47467_Q001_data.p', 'rb'))\n",
    "D2 = pickle.load(open('A47467_Q002_data.p', 'rb'))"
   ]
  },
  {
   "cell_type": "markdown",
   "metadata": {},
   "source": [
    "# Pergunta 1"
   ]
  },
  {
   "cell_type": "code",
   "execution_count": 4,
   "metadata": {},
   "outputs": [
    {
     "name": "stdout",
     "output_type": "stream",
     "text": [
      "(2, 265) (265,) (2, 797) (797,)\n"
     ]
    }
   ],
   "source": [
    "X1 = D1['Xtrain']\n",
    "X2 = D1['Xtest']\n",
    "\n",
    "y1 = D1['trueClassTrain']\n",
    "y2 = D1['trueClassTest']\n",
    "\n",
    "print(X1.shape, y1.shape, X2.shape, y2.shape)"
   ]
  },
  {
   "cell_type": "code",
   "execution_count": 5,
   "metadata": {},
   "outputs": [],
   "source": [
    "def distancia(x, y):\n",
    "    M = np.array([[1,-2],[1,1]])\n",
    "    return np.dot((x-y).T, np.dot(M, (x-y)))"
   ]
  },
  {
   "cell_type": "code",
   "execution_count": 6,
   "metadata": {},
   "outputs": [
    {
     "name": "stdout",
     "output_type": "stream",
     "text": [
      "[[180   3   0   0   6]\n",
      " [ 27 133   0   0   4]\n",
      " [  5   0 174   0   9]\n",
      " [  0   0   0 106   0]\n",
      " [ 10   3  10   0 127]]\n"
     ]
    }
   ],
   "source": [
    "knn = KNeighborsClassifier(n_neighbors=29, metric=distancia).fit(X1.T, y1)\n",
    "y2e = knn.predict(X2.T)\n",
    "cm = confusion_matrix(y2, y2e)\n",
    "print(cm)"
   ]
  },
  {
   "cell_type": "code",
   "execution_count": 7,
   "metadata": {},
   "outputs": [
    {
     "name": "stdout",
     "output_type": "stream",
     "text": [
      "0\n",
      "127\n"
     ]
    }
   ],
   "source": [
    "print(cm[2][3])\n",
    "print(cm[4][4])"
   ]
  },
  {
   "cell_type": "code",
   "execution_count": 8,
   "metadata": {},
   "outputs": [
    {
     "name": "stdout",
     "output_type": "stream",
     "text": [
      "180\n",
      "133\n"
     ]
    }
   ],
   "source": [
    "print(cm[0][0])\n",
    "print(cm[1][1])"
   ]
  },
  {
   "cell_type": "markdown",
   "metadata": {},
   "source": [
    "# Pergunta 2"
   ]
  },
  {
   "cell_type": "code",
   "execution_count": 9,
   "metadata": {},
   "outputs": [
    {
     "data": {
      "text/plain": [
       "array([[786, 174],\n",
       "       [ 60, 180]])"
      ]
     },
     "execution_count": 9,
     "metadata": {},
     "output_type": "execute_result"
    }
   ],
   "source": [
    "y = D2['trueClass']\n",
    "ye = D2['estClass']\n",
    "cm = confusion_matrix(y,ye)\n",
    "cm"
   ]
  },
  {
   "cell_type": "markdown",
   "metadata": {},
   "source": [
    "Accuracy = $\\frac{TP + TN}{TP + TN + FP + FN}$\n",
    "\n",
    "Precision (Positive Predictive Value) = $\\frac{TP}{TP + FP}$\n",
    "\n",
    "Recall (True Positive Rate) = $\\frac{TP}{TP + FN}$ = 1 - FNR\n",
    "\n",
    "Specificity (True Negative Rate) = $\\frac{TN}{TN + FP}$ = 1 - FPR\n",
    "\n",
    "FPR (False Positivity Rate) = $\\frac{FP}{FP + TN}$ = 1 - Specificity\n",
    "\n",
    "FNR (False Negative Rate) = $\\frac{FN}{FN + TP}$ = 1 - Recall\n",
    "\n",
    "NPV (Negative Predictive Value) = $\\frac{TN}{TN + FN}$\n",
    "\n",
    "F1 Score = 2 * $\\frac{Precison * Recall}{Precision + Recall}$"
   ]
  },
  {
   "cell_type": "markdown",
   "metadata": {},
   "source": [
    "Euclidiana: np.sqrt(np.sum((a - b) ** 2))\n",
    "\n",
    "Manhattan: np.sum(np.abs(a - b))\n",
    "\n",
    "Mahalanobis: delta = a - b\n",
    "    inv_cov_matrix = inv(covariance_matrix)\n",
    "    return np.sqrt(np.dot(np.dot(delta.T, inv_cov_matrix), delta))\n",
    "\n",
    "Cossenos: 1 - (np.dot(a, b) / (np.linalg.norm(a) * np.linalg.norm(b)))"
   ]
  },
  {
   "cell_type": "code",
   "execution_count": 10,
   "metadata": {},
   "outputs": [
    {
     "name": "stdout",
     "output_type": "stream",
     "text": [
      "Falsos alarmes : 0.18125\n",
      "Verdadeiros negativos : 0.81875\n",
      "Verdadeiros negativos : 0.81875\n"
     ]
    }
   ],
   "source": [
    "TN = cm[0][0]\n",
    "FP = cm[0][1]\n",
    "FN = cm[1][0]\n",
    "TP = cm[1][1]\n",
    "\n",
    "# taxa de falso positivo\n",
    "tfp = FP / (FP + TN)\n",
    "\n",
    "# taxa de verdadeiro negativo\n",
    "tvn = TN / (FP + TN)\n",
    "\n",
    "print('Falsos alarmes :', tfp)\n",
    "print('Verdadeiros negativos :', 1 - tfp)\n",
    "print('Verdadeiros negativos :', tvn)"
   ]
  },
  {
   "cell_type": "code",
   "execution_count": 11,
   "metadata": {},
   "outputs": [
    {
     "name": "stdout",
     "output_type": "stream",
     "text": [
      "60\n",
      "786\n"
     ]
    }
   ],
   "source": [
    "print(FN)\n",
    "print(TN)"
   ]
  },
  {
   "cell_type": "code",
   "execution_count": 12,
   "metadata": {},
   "outputs": [
    {
     "name": "stdout",
     "output_type": "stream",
     "text": [
      "Percentagem de exemplos da classe 1 : 0.2\n",
      "Recall : 0.75\n"
     ]
    }
   ],
   "source": [
    "# percentagem de exemplos da classe 1\n",
    "print('Percentagem de exemplos da classe 1 :', np.sum(y==1)/y.shape[0])\n",
    "# recall\n",
    "print('Recall :', TP/(TP+FN))"
   ]
  },
  {
   "cell_type": "code",
   "execution_count": 13,
   "metadata": {},
   "outputs": [],
   "source": [
    "X = np.array([[-2,1,-2,-1,3,5,3,3],\n",
    "             [-2,-4,-3,-2,-2,-3,-5,-1]])\n",
    "y = np.array([0,0,0,0,1,1,1,1])"
   ]
  },
  {
   "cell_type": "code",
   "execution_count": 14,
   "metadata": {},
   "outputs": [
    {
     "name": "stdout",
     "output_type": "stream",
     "text": [
      "Distancia de Manhattan entre as medias :  4.5\n",
      "Distancia de Cosseno entre as medias :  0.688094206275401\n"
     ]
    }
   ],
   "source": [
    "m0 = np.mean(X[:, y==0], axis=1)\n",
    "m1 = np.mean(X[:, y==1], axis=1)\n",
    "\n",
    "mDist = spd.cityblock(m0, m1)\n",
    "cDist = spd.cosine(m0, m1)\n",
    "\n",
    "print('Distancia de Manhattan entre as medias : ', mDist)\n",
    "print('Distancia de Cosseno entre as medias : ', cDist)"
   ]
  },
  {
   "cell_type": "code",
   "execution_count": 15,
   "metadata": {},
   "outputs": [
    {
     "data": {
      "text/plain": [
       "array([0, 0])"
      ]
     },
     "execution_count": 15,
     "metadata": {},
     "output_type": "execute_result"
    }
   ],
   "source": [
    "x2 = np.array([[-3,0],\n",
    "               [4,2]])\n",
    "nc = NearestCentroid(metric='manhattan').fit(X.T, y)\n",
    "y2e = nc.predict(x2.T)\n",
    "y2e"
   ]
  },
  {
   "cell_type": "code",
   "execution_count": 16,
   "metadata": {},
   "outputs": [
    {
     "data": {
      "text/plain": [
       "array([[4, 0],\n",
       "       [0, 4]])"
      ]
     },
     "execution_count": 16,
     "metadata": {},
     "output_type": "execute_result"
    }
   ],
   "source": [
    "nc = NearestCentroid(metric='euclidean').fit(X.T, y)\n",
    "y2e = nc.predict(X.T)\n",
    "confusion_matrix(y, y2e)"
   ]
  },
  {
   "cell_type": "code",
   "execution_count": 17,
   "metadata": {},
   "outputs": [
    {
     "data": {
      "text/plain": [
       "array([0, 1])"
      ]
     },
     "execution_count": 17,
     "metadata": {},
     "output_type": "execute_result"
    }
   ],
   "source": [
    "x2 = np.array([[-2,3],\n",
    "              [-1,1]])\n",
    "nc = NearestCentroid(metric='manhattan').fit(X.T, y)\n",
    "y2e = nc.predict(x2.T)\n",
    "y2e"
   ]
  },
  {
   "cell_type": "code",
   "execution_count": 18,
   "metadata": {},
   "outputs": [
    {
     "name": "stdout",
     "output_type": "stream",
     "text": [
      "[[2.06155281 9.34612219]\n",
      " [5.5218099  2.21446295]] \n",
      "\n",
      "[0 1]\n"
     ]
    }
   ],
   "source": [
    "Xd = np.array([ [-2, 3],\n",
    "                [-1, 1] ])\n",
    "\n",
    "S0 = np.cov(X[:, y==0])\n",
    "S1 = np.cov(X[:, y==1])\n",
    "\n",
    "S0i = pinv(S0)\n",
    "S1i = pinv(S1)\n",
    "\n",
    "D0 = np.sqrt(np.sum( (Xd-m0[:, np.newaxis])*np.dot(S0i, Xd-m0[:, np.newaxis]), axis=0 ) )\n",
    "D1 = np.sqrt(np.sum( (Xd-m1[:, np.newaxis])*np.dot(S1i, Xd-m1[:, np.newaxis]), axis=0 ) )\n",
    "\n",
    "D = np.vstack((D0, D1))\n",
    "print(D, '\\n')\n",
    "ye = np.argmin(D, axis=0)\n",
    "print(ye)"
   ]
  },
  {
   "cell_type": "code",
   "execution_count": 19,
   "metadata": {},
   "outputs": [
    {
     "name": "stdout",
     "output_type": "stream",
     "text": [
      "Matriz de Similaridade (D_cosine):\n",
      " [[ 0.90618314  0.82884867  0.97152034  0.99340894  0.23695618  0.19047747\n",
      "   0.63004086 -0.02701716]\n",
      " [-0.11914522  0.79008515  0.07788767  0.20094414  0.99696214  0.99212898\n",
      "   0.93433506  0.9413394 ]]\n",
      "\n",
      "Classificação (ye_cosine):\n",
      " [0 0 0 0 1 1 1 1]\n"
     ]
    }
   ],
   "source": [
    "from sklearn.metrics.pairwise import cosine_similarity\n",
    "\n",
    "cosine_sim_D0 = cosine_similarity(X.T, m0.reshape(1, -1))\n",
    "cosine_sim_D1 = cosine_similarity(X.T, m1.reshape(1, -1))\n",
    "\n",
    "D_cosine = np.vstack((cosine_sim_D0.T, cosine_sim_D1.T))\n",
    "ye_cosine = np.argmax(D_cosine, axis=0)\n",
    "\n",
    "print(\"Matriz de Similaridade (D_cosine):\\n\", D_cosine)\n",
    "print(\"\\nClassificação (ye_cosine):\\n\", ye_cosine)"
   ]
  },
  {
   "cell_type": "markdown",
   "metadata": {},
   "source": [
    "# --------------------------------------------"
   ]
  },
  {
   "cell_type": "code",
   "execution_count": 20,
   "metadata": {},
   "outputs": [],
   "source": [
    "D1 = pickle.load(open('A47467_Q001_data.p', 'rb'))\n",
    "D2 = pickle.load(open('A47467_Q002_data.p', 'rb'))"
   ]
  },
  {
   "cell_type": "code",
   "execution_count": 25,
   "metadata": {},
   "outputs": [
    {
     "data": {
      "text/plain": [
       "array([[786, 174],\n",
       "       [ 60, 180]])"
      ]
     },
     "execution_count": 25,
     "metadata": {},
     "output_type": "execute_result"
    }
   ],
   "source": [
    "y = D2['trueClass']\n",
    "ye = D2['estClass']\n",
    "confusion_matrix(y, ye)"
   ]
  },
  {
   "cell_type": "code",
   "execution_count": 26,
   "metadata": {},
   "outputs": [
    {
     "name": "stdout",
     "output_type": "stream",
     "text": [
      "0.18125\n",
      "0.75\n"
     ]
    }
   ],
   "source": [
    "TN = cm[0][0]\n",
    "FP = cm[0][1]\n",
    "FN = cm[1][0]\n",
    "TP = cm[1][1]\n",
    "\n",
    "print(FP / (FP + TN))\n",
    "print(TP / (TP + FN))"
   ]
  },
  {
   "cell_type": "code",
   "execution_count": 31,
   "metadata": {},
   "outputs": [
    {
     "name": "stdout",
     "output_type": "stream",
     "text": [
      "19.5\n",
      "Percentagem de exemplos da classe 1 : 0.2\n"
     ]
    }
   ],
   "source": [
    "print(np.round((1 - (TP + TN)/(TP + TN + FP + FN))*100,1))\n",
    "# percentagem de exemplos da classe dos positivos\n",
    "print('Percentagem de exemplos da classe 1 :', np.sum(y==1)/y.shape[0])"
   ]
  }
 ],
 "metadata": {
  "kernelspec": {
   "display_name": "AA",
   "language": "python",
   "name": "python3"
  },
  "language_info": {
   "codemirror_mode": {
    "name": "ipython",
    "version": 3
   },
   "file_extension": ".py",
   "mimetype": "text/x-python",
   "name": "python",
   "nbconvert_exporter": "python",
   "pygments_lexer": "ipython3",
   "version": "3.12.5"
  }
 },
 "nbformat": 4,
 "nbformat_minor": 2
}
