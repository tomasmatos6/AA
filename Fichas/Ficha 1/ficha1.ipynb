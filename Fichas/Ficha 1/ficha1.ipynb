{
 "cells": [
  {
   "cell_type": "code",
   "execution_count": 186,
   "metadata": {},
   "outputs": [],
   "source": [
    "import numpy as np\n",
    "import pickle\n",
    "import numpy.random as rd\n",
    "import numpy.linalg as la\n",
    "import scipy.spatial.distance as spd"
   ]
  },
  {
   "cell_type": "markdown",
   "metadata": {},
   "source": [
    "## Pergunta 1"
   ]
  },
  {
   "cell_type": "code",
   "execution_count": 187,
   "metadata": {},
   "outputs": [],
   "source": [
    "D = pickle.load(open('A48286_Q001_data.p', 'rb'))\n",
    "X = D['dados']\n",
    "y = D['trueClass']"
   ]
  },
  {
   "cell_type": "code",
   "execution_count": 188,
   "metadata": {},
   "outputs": [],
   "source": [
    "m0 = np.mean(X[:, y==0], axis=1)\n",
    "m1 = np.mean(X[:, y==1], axis=1)\n",
    "m2 = np.mean(X[:, y==2], axis=1)\n",
    "m3 = np.mean(X[:, y==3], axis=1)\n",
    "m4 = np.mean(X[:, y==4], axis=1)\n",
    "\n",
    "cov0 = np.cov(X[:, y==0])\n",
    "cov1 = np.cov(X[:, y==1])\n",
    "cov2 = np.cov(X[:, y==2])\n",
    "cov3 = np.cov(X[:, y==3])\n",
    "cov4 = np.cov(X[:, y==4])"
   ]
  },
  {
   "cell_type": "markdown",
   "metadata": {},
   "source": [
    "### a) -> ii"
   ]
  },
  {
   "cell_type": "code",
   "execution_count": 189,
   "metadata": {},
   "outputs": [
    {
     "data": {
      "text/plain": [
       "np.float64(12.76)"
      ]
     },
     "execution_count": 189,
     "metadata": {},
     "output_type": "execute_result"
    }
   ],
   "source": [
    "# Distância de Manhattan entre média 2 e 3\n",
    "np.round(spd.cityblock(m2,m3),2)"
   ]
  },
  {
   "cell_type": "code",
   "execution_count": 190,
   "metadata": {},
   "outputs": [
    {
     "data": {
      "text/plain": [
       "np.float64(1.97)"
      ]
     },
     "execution_count": 190,
     "metadata": {},
     "output_type": "execute_result"
    }
   ],
   "source": [
    "# Distância de Cosseno entre média 0 e 4\n",
    "np.round(spd.cosine(m0,m4),2)"
   ]
  },
  {
   "cell_type": "markdown",
   "metadata": {},
   "source": [
    "### b) -> iii"
   ]
  },
  {
   "cell_type": "code",
   "execution_count": 191,
   "metadata": {},
   "outputs": [
    {
     "data": {
      "text/plain": [
       "np.float64(1.55)"
      ]
     },
     "execution_count": 191,
     "metadata": {},
     "output_type": "execute_result"
    }
   ],
   "source": [
    "# Determinante do produto matriciall entre covariâncias 1 e 4\n",
    "np.round(la.det(np.dot(cov1,cov4)),2)"
   ]
  },
  {
   "cell_type": "code",
   "execution_count": 192,
   "metadata": {},
   "outputs": [
    {
     "data": {
      "text/plain": [
       "np.float64(-13.05)"
      ]
     },
     "execution_count": 192,
     "metadata": {},
     "output_type": "execute_result"
    }
   ],
   "source": [
    "# Produto matricial entre média 0 transposta, covariância 0 e média 3\n",
    "np.round(np.dot(m0.T,np.dot(cov0,m3)),2)"
   ]
  },
  {
   "cell_type": "code",
   "execution_count": 193,
   "metadata": {},
   "outputs": [
    {
     "data": {
      "text/plain": [
       "np.float64(-0.05)"
      ]
     },
     "execution_count": 193,
     "metadata": {},
     "output_type": "execute_result"
    }
   ],
   "source": [
    "# Produto interno entre médias 0 e 2\n",
    "np.round(np.dot(m0,m2),2)"
   ]
  },
  {
   "cell_type": "code",
   "execution_count": 194,
   "metadata": {},
   "outputs": [
    {
     "data": {
      "text/plain": [
       "array([ 0.34, -5.64])"
      ]
     },
     "execution_count": 194,
     "metadata": {},
     "output_type": "execute_result"
    }
   ],
   "source": [
    "# Produto entre covâriancia 0 e média 2\n",
    "np.round(np.dot(cov0,m2),2)"
   ]
  },
  {
   "cell_type": "markdown",
   "metadata": {},
   "source": [
    "### c) -> iii"
   ]
  },
  {
   "cell_type": "code",
   "execution_count": 195,
   "metadata": {},
   "outputs": [
    {
     "data": {
      "text/plain": [
       "(2, 2550)"
      ]
     },
     "execution_count": 195,
     "metadata": {},
     "output_type": "execute_result"
    }
   ],
   "source": [
    "X.shape"
   ]
  },
  {
   "cell_type": "code",
   "execution_count": 196,
   "metadata": {},
   "outputs": [
    {
     "data": {
      "text/plain": [
       "0.16"
      ]
     },
     "execution_count": 196,
     "metadata": {},
     "output_type": "execute_result"
    }
   ],
   "source": [
    "# Probabilidade da classe 2\n",
    "round(y[y==2].shape[0]/2550,2)"
   ]
  },
  {
   "cell_type": "code",
   "execution_count": 197,
   "metadata": {},
   "outputs": [
    {
     "data": {
      "text/plain": [
       "array([[2.98, 1.48],\n",
       "       [1.48, 2.99]])"
      ]
     },
     "execution_count": 197,
     "metadata": {},
     "output_type": "execute_result"
    }
   ],
   "source": [
    "# Covariância 3\n",
    "np.round(cov3,2)"
   ]
  },
  {
   "cell_type": "markdown",
   "metadata": {},
   "source": [
    "### d) -> iii"
   ]
  },
  {
   "cell_type": "code",
   "execution_count": 198,
   "metadata": {},
   "outputs": [
    {
     "data": {
      "text/plain": [
       "array([-0.03, -0.01])"
      ]
     },
     "execution_count": 198,
     "metadata": {},
     "output_type": "execute_result"
    }
   ],
   "source": [
    "# Média 4\n",
    "np.round(m4,2)"
   ]
  },
  {
   "cell_type": "code",
   "execution_count": 199,
   "metadata": {},
   "outputs": [
    {
     "data": {
      "text/plain": [
       "array([-3.33, -1.69])"
      ]
     },
     "execution_count": 199,
     "metadata": {},
     "output_type": "execute_result"
    }
   ],
   "source": [
    "# Média 1\n",
    "np.round(m1,2)"
   ]
  },
  {
   "cell_type": "markdown",
   "metadata": {},
   "source": [
    "## Pergunta 2"
   ]
  },
  {
   "cell_type": "code",
   "execution_count": 200,
   "metadata": {},
   "outputs": [],
   "source": [
    "X = np.array([[-4,-4,-1,-2,4,2,3],\n",
    "              [0,-1,0,0,-2,-4,-2]])\n",
    "y = np.array([0,0,0,0,1,1,1])\n",
    "\n",
    "m0 = np.mean(X[:,y==0], axis=1)\n",
    "m1 = np.mean(X[:,y==1], axis=1)"
   ]
  },
  {
   "cell_type": "markdown",
   "metadata": {},
   "source": [
    "### a) -> iii"
   ]
  },
  {
   "cell_type": "code",
   "execution_count": 201,
   "metadata": {},
   "outputs": [
    {
     "data": {
      "text/plain": [
       "np.float64(-7.58)"
      ]
     },
     "execution_count": 201,
     "metadata": {},
     "output_type": "execute_result"
    }
   ],
   "source": [
    "# Produto interno entre média 0 e 1\n",
    "np.round(np.dot(m0,m1),2)"
   ]
  },
  {
   "cell_type": "code",
   "execution_count": 202,
   "metadata": {},
   "outputs": [
    {
     "data": {
      "text/plain": [
       "np.float64(4.01)"
      ]
     },
     "execution_count": 202,
     "metadata": {},
     "output_type": "execute_result"
    }
   ],
   "source": [
    "# Norma da média 1\n",
    "np.round(la.norm(m1),2)"
   ]
  },
  {
   "cell_type": "markdown",
   "metadata": {},
   "source": [
    "### b) -> ii"
   ]
  },
  {
   "cell_type": "code",
   "execution_count": 203,
   "metadata": {},
   "outputs": [
    {
     "data": {
      "text/plain": [
       "np.float64(8.17)"
      ]
     },
     "execution_count": 203,
     "metadata": {},
     "output_type": "execute_result"
    }
   ],
   "source": [
    "# Distância de Manhattan entre média 0 e 1\n",
    "np.round(spd.cityblock(m0,m1),2)"
   ]
  },
  {
   "cell_type": "code",
   "execution_count": 204,
   "metadata": {},
   "outputs": [
    {
     "data": {
      "text/plain": [
       "np.float64(1.68)"
      ]
     },
     "execution_count": 204,
     "metadata": {},
     "output_type": "execute_result"
    }
   ],
   "source": [
    "# Distância de Cosseno entre média 0 e 1\n",
    "np.round(spd.cosine(m0,m1),2)"
   ]
  },
  {
   "cell_type": "markdown",
   "metadata": {},
   "source": [
    "## Save File"
   ]
  },
  {
   "cell_type": "code",
   "execution_count": 205,
   "metadata": {},
   "outputs": [
    {
     "data": {
      "text/plain": [
       "{'Q001': array([[0., 1., 0., 0.],\n",
       "        [0., 0., 1., 0.],\n",
       "        [0., 0., 1., 0.],\n",
       "        [0., 0., 1., 0.]]),\n",
       " 'Q002': array([[0., 0., 1., 0.],\n",
       "        [0., 1., 0., 0.]]),\n",
       " 'nome': 'Tomas Miguel Baptista de Matos',\n",
       " 'numero': 'A48286'}"
      ]
     },
     "execution_count": 205,
     "metadata": {},
     "output_type": "execute_result"
    }
   ],
   "source": [
    "QD = pickle.load(open('A48286_Ficha1_Respostas.p', 'rb'))\n",
    "# Pergunta 1\n",
    "QD['Q001'][0,:] = np.array([0,1,0,0])\n",
    "QD['Q001'][1,:] = np.array([0,0,1,0])\n",
    "QD['Q001'][2,:] = np.array([0,0,1,0])\n",
    "QD['Q001'][3,:] = np.array([0,0,1,0])\n",
    "\n",
    "# Pergunta 2\n",
    "QD['Q002'][0,:] = np.array([0,0,1,0])\n",
    "QD['Q002'][1,:] = np.array([0,1,0,0])\n",
    "\n",
    "# Save\n",
    "pickle.dump(QD, open('A48286_Ficha1_Respostas.p', 'wb'))\n",
    "\n",
    "# Show data\n",
    "pickle.load(open('A48286_Ficha1_Respostas.p', 'rb'))"
   ]
  }
 ],
 "metadata": {
  "kernelspec": {
   "display_name": "AA",
   "language": "python",
   "name": "python3"
  },
  "language_info": {
   "codemirror_mode": {
    "name": "ipython",
    "version": 3
   },
   "file_extension": ".py",
   "mimetype": "text/x-python",
   "name": "python",
   "nbconvert_exporter": "python",
   "pygments_lexer": "ipython3",
   "version": "3.12.5"
  }
 },
 "nbformat": 4,
 "nbformat_minor": 2
}
